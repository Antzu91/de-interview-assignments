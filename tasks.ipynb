{
 "cells": [
  {
   "cell_type": "markdown",
   "metadata": {},
   "source": [
    "# Task 1: SQL\n",
    "\n",
    "1. Run the cell below to load data from the [bank_failures.parquet](bank_failures.parquet) file into a DuckDBPyRelation and inspect the schema.\n",
    "2. In the following cell, calculate the number of banks in the state of New York that have failed after 2010-01-01.  \n",
    "The result only needs to show the number of banks.\n",
    "\n",
    "Look up [DuckDb Python API](https://duckdb.org/docs/api/python/overview.html)"
   ]
  },
  {
   "cell_type": "code",
   "execution_count": null,
   "metadata": {},
   "outputs": [],
   "source": [
    "import duckdb\n",
    "\n",
    "bank_failures_data = duckdb.read_parquet(\"bank_failures.parquet\")\n",
    "bank_failures_data"
   ]
  },
  {
   "cell_type": "code",
   "execution_count": null,
   "metadata": {},
   "outputs": [],
   "source": [
    "duckdb.sql(\"\"\"\n",
    "Write your code here!\n",
    "\"\"\")"
   ]
  },
  {
   "cell_type": "markdown",
   "metadata": {},
   "source": [
    "# Task 2: SQL\n",
    "\n",
    "2. In the following cell, calculate the ordinal number of each bank failure per State based on the chronological order of failure.  \n",
    "The result should show the Bank, city, State and the order in which it failed compared to its peers.  \n",
    "Sort the results according to the State, Bank and Date.\n",
    " Hint: Window functions"
   ]
  },
  {
   "cell_type": "code",
   "execution_count": null,
   "metadata": {},
   "outputs": [],
   "source": [
    "duckdb.sql(\"\"\"\n",
    "Write your code here!\n",
    "\"\"\")"
   ]
  },
  {
   "cell_type": "markdown",
   "metadata": {},
   "source": [
    "# Task 3: Python (Polars or Pandas)\n",
    "\n",
    "1. do x\n",
    "2. do y\n",
    "3. do z"
   ]
  },
  {
   "cell_type": "code",
   "execution_count": null,
   "metadata": {},
   "outputs": [],
   "source": [
    "import polars as pl\n",
    "import pandas as pd\n",
    "\n",
    "pl.read_parquet(\"path\")\n",
    "pd.read_parquet(\"path\")"
   ]
  },
  {
   "cell_type": "code",
   "execution_count": null,
   "metadata": {},
   "outputs": [],
   "source": []
  },
  {
   "cell_type": "markdown",
   "metadata": {},
   "source": [
    "# Task 4: Python (Polars or Pandas)\n",
    "\n",
    "1. do x\n",
    "2. do y\n",
    "3. do z"
   ]
  }
 ],
 "metadata": {
  "kernelspec": {
   "display_name": ".venv",
   "language": "python",
   "name": "python3"
  },
  "language_info": {
   "codemirror_mode": {
    "name": "ipython",
    "version": 3
   },
   "file_extension": ".py",
   "mimetype": "text/x-python",
   "name": "python",
   "nbconvert_exporter": "python",
   "pygments_lexer": "ipython3",
   "version": "3.10.12"
  }
 },
 "nbformat": 4,
 "nbformat_minor": 2
}
