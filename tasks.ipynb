{
 "cells": [
  {
   "cell_type": "markdown",
   "metadata": {},
   "source": [
    "# Task 1: SQL\n",
    "\n",
    "1. Run the cell below to load data from the [bank_failures.parquet](bank_failures.parquet) file into a DuckDBPyRelation and inspect the schema.\n",
    "2. In the following cell, calculate the number of banks in the state of New York that have failed after 2010-01-01.  \n",
    "The result only needs to show the number of banks.\n",
    "\n",
    "Look up [DuckDb Python API](https://duckdb.org/docs/api/python/overview.html)"
   ]
  },
  {
   "cell_type": "code",
   "execution_count": 16,
   "metadata": {},
   "outputs": [
    {
     "data": {
      "text/plain": [
       "┌───────┬──────────────────────────────────────┬───────────────────┬───────────────┬────────────┬────────────────────────────────────────┬────────────────┐\n",
       "│  c1   │                 Bank                 │       City        │     State     │    Date    │              Acquired by               │ Assets ($mil.) │\n",
       "│ int64 │               varchar                │      varchar      │    varchar    │    date    │                varchar                 │     double     │\n",
       "├───────┼──────────────────────────────────────┼───────────────────┼───────────────┼────────────┼────────────────────────────────────────┼────────────────┤\n",
       "│     1 │ Douglass National Bank               │ Kansas City       │ Missouri      │ 2008-01-25 │ Liberty Bank and Trust                 │           58.5 │\n",
       "│     2 │ Hume Bank                            │ Hume              │ Missouri      │ 2008-03-07 │ Security Bank                          │           18.7 │\n",
       "│     3 │ Bear Stearns                         │ New York City     │ New York      │ 2008-03-16 │ J.P. Morgan Chase                      │       395000.0 │\n",
       "│     4 │ ANB Financial N.A.                   │ Bentonville       │ Arkansas      │ 2008-05-09 │ Pulaski Bank and Trust Company         │         2100.0 │\n",
       "│     5 │ First Integrity Bank, N.A.           │ Staples           │ Minnesota     │ 2008-05-30 │ First International Bank and Trust     │           54.7 │\n",
       "│     6 │ IndyMac                              │ Pasadena          │ California    │ 2008-07-11 │ OneWest Bank, FSB                      │        32000.0 │\n",
       "│     7 │ First National Bank of Nevada        │ Reno              │ Nevada        │ 2008-07-25 │ Mutual of Omaha Bank                   │         3400.0 │\n",
       "│     8 │ First Heritage Bank, N.A.            │ Newport Beach     │ California    │ 2008-07-25 │ Mutual of Omaha Bank                   │          254.0 │\n",
       "│     9 │ First Priority Bank                  │ Bradenton         │ Florida       │ 2008-08-01 │ SunTrust Banks                         │          259.0 │\n",
       "│    10 │ The Columbian Bank and Trust Company │ Topeka            │ Kansas        │ 2008-08-22 │ Citizens Bank and Trust                │          752.0 │\n",
       "│     · │                 ·                    │   ·               │   ·           │     ·      │       ·                                │            ·   │\n",
       "│     · │                 ·                    │   ·               │   ·           │     ·      │       ·                                │            ·   │\n",
       "│     · │                 ·                    │   ·               │   ·           │     ·      │       ·                                │            ·   │\n",
       "│     2 │ First State Bank of Barboursville    │ Barboursville     │ West Virginia │ 2020-04-03 │ MVB Bank Inc.                          │          152.4 │\n",
       "│     3 │ First City Bank of Florida           │ Fort Walton Beach │ Florida       │ 2020-10-16 │ United Fidelity Bank, fsb              │          134.7 │\n",
       "│     4 │ Almena State Bank                    │ Almena            │ Kansas        │ 2020-10-23 │ Equity Bank                            │           70.0 │\n",
       "│     1 │ Silvergate Bank                      │ San Diego         │ California    │ 2023-03-08 │ None (Wound down voluntarily)          │        16000.0 │\n",
       "│     2 │ Silicon Valley Bank                  │ Santa Clara       │ California    │ 2023-03-10 │ First Citizens BancShares              │       209000.0 │\n",
       "│     3 │ Signature Bank                       │ New York City     │ New York      │ 2023-03-12 │ Flagstar Bank                          │       118445.0 │\n",
       "│     4 │ First Republic Bank                  │ San Francisco     │ California    │ 2023-05-01 │ JPMorgan Chase                         │       229000.0 │\n",
       "│     5 │ Heartland Tri-State Bank             │ Elkhart           │ Kansas        │ 2023-07-28 │ Dream First Bank, National Association │          139.0 │\n",
       "│     6 │ Citizens Bank                        │ Sac City          │ Iowa          │ 2023-11-03 │ Iowa Trust & Savings Bank              │           66.0 │\n",
       "│     1 │ Republic First Bancorp               │ Philadelphia      │ Pennsylvania  │ 2024-04-26 │ Fulton Bank                            │         6000.0 │\n",
       "├───────┴──────────────────────────────────────┴───────────────────┴───────────────┴────────────┴────────────────────────────────────────┴────────────────┤\n",
       "│ 544 rows (20 shown)                                                                                                                           7 columns │\n",
       "└─────────────────────────────────────────────────────────────────────────────────────────────────────────────────────────────────────────────────────────┘"
      ]
     },
     "execution_count": 16,
     "metadata": {},
     "output_type": "execute_result"
    }
   ],
   "source": [
    "import duckdb\n",
    "\n",
    "bank_failures_data = duckdb.read_parquet(\"bank_failures.parquet\")\n",
    "bank_failures_data"
   ]
  },
  {
   "cell_type": "code",
   "execution_count": null,
   "metadata": {},
   "outputs": [
    {
     "data": {
      "text/plain": [
       "┌───────────┐\n",
       "│ num_banks │\n",
       "│   int64   │\n",
       "├───────────┤\n",
       "│         4 │\n",
       "└───────────┘"
      ]
     },
     "execution_count": 14,
     "metadata": {},
     "output_type": "execute_result"
    }
   ],
   "source": [
    "duckdb.sql(\"\"\"\n",
    "Write your code here!\n",
    "\"\"\")"
   ]
  },
  {
   "cell_type": "markdown",
   "metadata": {},
   "source": [
    "# Task 2: SQL\n",
    "\n",
    "2. In the following cell, calculate the ordinal number of each bank failure per State based on the chronological order of failure.  \n",
    "The result should show the Bank, city, State and the order in which it failed compared to its peers.  \n",
    "Sort the results according to the State, Bank and Date.\n",
    " Hint: Window functions"
   ]
  },
  {
   "cell_type": "code",
   "execution_count": 22,
   "metadata": {},
   "outputs": [
    {
     "data": {
      "text/plain": [
       "┌────────────────────────────────────────────────────────┬─────────────┬───────────┬────────────┬──────────────────┐\n",
       "│                          Bank                          │    City     │   State   │    Date    │ Order of failure │\n",
       "│                        varchar                         │   varchar   │  varchar  │    date    │      int64       │\n",
       "├────────────────────────────────────────────────────────┼─────────────┼───────────┼────────────┼──────────────────┤\n",
       "│ Alabama Trust Bank, N.A.                               │ Sylacauga   │ Alabama   │ 2012-05-18 │                7 │\n",
       "│ CapitalSouth Bank                                      │ Birmingham  │ Alabama   │ 2009-08-21 │                2 │\n",
       "│ Colonial Bank                                          │ Montgomery  │ Alabama   │ 2009-08-14 │                1 │\n",
       "│ First Lowndes Bank                                     │ Luverne     │ Alabama   │ 2010-03-19 │                4 │\n",
       "│ New South Federal Savings Bank                         │ Irondale    │ Alabama   │ 2009-12-18 │                3 │\n",
       "│ Nexity Bank                                            │ Birmingham  │ Alabama   │ 2011-04-15 │                5 │\n",
       "│ Superior Bank                                          │ Birmingham  │ Alabama   │ 2011-04-15 │                5 │\n",
       "│ Bank USA, N.A.                                         │ Phoenix     │ Arizona   │ 2009-10-30 │                4 │\n",
       "│ Central Arizona Bank                                   │ Scottsdale  │ Arizona   │ 2013-05-14 │               14 │\n",
       "│ Community Bank of Arizona                              │ Phoenix     │ Arizona   │ 2009-08-14 │                1 │\n",
       "│        ·                                               │   ·         │    ·      │     ·      │                · │\n",
       "│        ·                                               │   ·         │    ·      │     ·      │                · │\n",
       "│        ·                                               │   ·         │    ·      │     ·      │                · │\n",
       "│ Bank of Elmwood                                        │ Racine      │ Wisconsin │ 2009-10-23 │                1 │\n",
       "│ Bank of Wausau                                         │ Wausau      │ Wisconsin │ 2013-08-09 │                8 │\n",
       "│ Banks of Wisconsin                                     │ Kenosha     │ Wisconsin │ 2013-05-31 │                7 │\n",
       "│ Evergreen State Bank                                   │ Stoughton   │ Wisconsin │ 2011-01-28 │                4 │\n",
       "│ First Banking Center                                   │ Burlington  │ Wisconsin │ 2010-11-19 │                3 │\n",
       "│ Guaranty Bank (d/b/a BestBank in Georgia and Michigan) │ Milwaukee   │ Wisconsin │ 2017-05-05 │               10 │\n",
       "│ Legacy Bank                                            │ Milwaukee   │ Wisconsin │ 2011-03-11 │                6 │\n",
       "│ Maritime Savings Bank                                  │ West Allis  │ Wisconsin │ 2010-09-17 │                2 │\n",
       "│ North Milwaukee State Bank                             │ Milwaukee   │ Wisconsin │ 2016-03-11 │                9 │\n",
       "│ Bank of Wyoming                                        │ Thermopolis │ Wyoming   │ 2009-07-10 │                1 │\n",
       "├────────────────────────────────────────────────────────┴─────────────┴───────────┴────────────┴──────────────────┤\n",
       "│ 544 rows (20 shown)                                                                                    5 columns │\n",
       "└──────────────────────────────────────────────────────────────────────────────────────────────────────────────────┘"
      ]
     },
     "execution_count": 22,
     "metadata": {},
     "output_type": "execute_result"
    }
   ],
   "source": [
    "duckdb.sql(\"\"\"\n",
    "SELECT \n",
    "    Bank,\n",
    "    City,\n",
    "    State,\n",
    "    Date,\n",
    "    RANK() OVER (PARTITION BY State ORDER BY Date) AS 'Order of failure'\n",
    "FROM bank_failures_data\n",
    "ORDER BY\n",
    "    State, Bank, Date\n",
    "\"\"\")"
   ]
  },
  {
   "cell_type": "markdown",
   "metadata": {},
   "source": [
    "# Task 3: Python (Polars or Pandas)\n",
    "\n",
    "1. do x\n",
    "2. do y\n",
    "3. do z"
   ]
  },
  {
   "cell_type": "code",
   "execution_count": null,
   "metadata": {},
   "outputs": [],
   "source": [
    "import polars as pl\n",
    "import pandas as pd\n",
    "\n",
    "pl.read_parquet(\"path\")\n",
    "pd.read_parquet(\"path\")"
   ]
  },
  {
   "cell_type": "code",
   "execution_count": null,
   "metadata": {},
   "outputs": [],
   "source": []
  },
  {
   "cell_type": "markdown",
   "metadata": {},
   "source": [
    "# Task 4: Python (Polars or Pandas)\n",
    "\n",
    "1. do x\n",
    "2. do y\n",
    "3. do z"
   ]
  }
 ],
 "metadata": {
  "kernelspec": {
   "display_name": ".venv",
   "language": "python",
   "name": "python3"
  },
  "language_info": {
   "codemirror_mode": {
    "name": "ipython",
    "version": 3
   },
   "file_extension": ".py",
   "mimetype": "text/x-python",
   "name": "python",
   "nbconvert_exporter": "python",
   "pygments_lexer": "ipython3",
   "version": "3.10.12"
  }
 },
 "nbformat": 4,
 "nbformat_minor": 2
}
